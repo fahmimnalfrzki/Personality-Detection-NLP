{
 "cells": [
  {
   "cell_type": "code",
   "execution_count": 48,
   "metadata": {},
   "outputs": [],
   "source": [
    "import pandas as pd #Import pandas untuk mengolah data\n",
    "import numpy as np\n",
    "import tensorflow as tf\n",
    "import matplotlib.pyplot as plt\n",
    "from sklearn.model_selection import train_test_split \n",
    "from nltk.stem import PorterStemmer, WordNetLemmatizer #Import modul stemmer dan lemmatizer\n",
    "from nltk.corpus import stopwords #Import stopwords dari libary nltk\n",
    "import re #Import library regular expression\n",
    "from tqdm import tqdm #import library untuk membuat loading progress (optional)"
   ]
  },
  {
   "cell_type": "code",
   "execution_count": 49,
   "metadata": {},
   "outputs": [
    {
     "data": {
      "text/html": [
       "<div>\n",
       "<style scoped>\n",
       "    .dataframe tbody tr th:only-of-type {\n",
       "        vertical-align: middle;\n",
       "    }\n",
       "\n",
       "    .dataframe tbody tr th {\n",
       "        vertical-align: top;\n",
       "    }\n",
       "\n",
       "    .dataframe thead th {\n",
       "        text-align: right;\n",
       "    }\n",
       "</style>\n",
       "<table border=\"1\" class=\"dataframe\">\n",
       "  <thead>\n",
       "    <tr style=\"text-align: right;\">\n",
       "      <th></th>\n",
       "      <th>type</th>\n",
       "      <th>posts</th>\n",
       "    </tr>\n",
       "  </thead>\n",
       "  <tbody>\n",
       "    <tr>\n",
       "      <th>0</th>\n",
       "      <td>INFJ</td>\n",
       "      <td>'http://www.youtube.com/watch?v=qsXHcwe3krw|||...</td>\n",
       "    </tr>\n",
       "    <tr>\n",
       "      <th>1</th>\n",
       "      <td>ENTP</td>\n",
       "      <td>'I'm finding the lack of me in these posts ver...</td>\n",
       "    </tr>\n",
       "    <tr>\n",
       "      <th>2</th>\n",
       "      <td>INTP</td>\n",
       "      <td>'Good one  _____   https://www.youtube.com/wat...</td>\n",
       "    </tr>\n",
       "    <tr>\n",
       "      <th>3</th>\n",
       "      <td>INTJ</td>\n",
       "      <td>'Dear INTP,   I enjoyed our conversation the o...</td>\n",
       "    </tr>\n",
       "    <tr>\n",
       "      <th>4</th>\n",
       "      <td>ENTJ</td>\n",
       "      <td>'You're fired.|||That's another silly misconce...</td>\n",
       "    </tr>\n",
       "    <tr>\n",
       "      <th>...</th>\n",
       "      <td>...</td>\n",
       "      <td>...</td>\n",
       "    </tr>\n",
       "    <tr>\n",
       "      <th>8670</th>\n",
       "      <td>ISFP</td>\n",
       "      <td>'https://www.youtube.com/watch?v=t8edHB_h908||...</td>\n",
       "    </tr>\n",
       "    <tr>\n",
       "      <th>8671</th>\n",
       "      <td>ENFP</td>\n",
       "      <td>'So...if this thread already exists someplace ...</td>\n",
       "    </tr>\n",
       "    <tr>\n",
       "      <th>8672</th>\n",
       "      <td>INTP</td>\n",
       "      <td>'So many questions when i do these things.  I ...</td>\n",
       "    </tr>\n",
       "    <tr>\n",
       "      <th>8673</th>\n",
       "      <td>INFP</td>\n",
       "      <td>'I am very conflicted right now when it comes ...</td>\n",
       "    </tr>\n",
       "    <tr>\n",
       "      <th>8674</th>\n",
       "      <td>INFP</td>\n",
       "      <td>'It has been too long since I have been on per...</td>\n",
       "    </tr>\n",
       "  </tbody>\n",
       "</table>\n",
       "<p>8675 rows × 2 columns</p>\n",
       "</div>"
      ],
      "text/plain": [
       "      type                                              posts\n",
       "0     INFJ  'http://www.youtube.com/watch?v=qsXHcwe3krw|||...\n",
       "1     ENTP  'I'm finding the lack of me in these posts ver...\n",
       "2     INTP  'Good one  _____   https://www.youtube.com/wat...\n",
       "3     INTJ  'Dear INTP,   I enjoyed our conversation the o...\n",
       "4     ENTJ  'You're fired.|||That's another silly misconce...\n",
       "...    ...                                                ...\n",
       "8670  ISFP  'https://www.youtube.com/watch?v=t8edHB_h908||...\n",
       "8671  ENFP  'So...if this thread already exists someplace ...\n",
       "8672  INTP  'So many questions when i do these things.  I ...\n",
       "8673  INFP  'I am very conflicted right now when it comes ...\n",
       "8674  INFP  'It has been too long since I have been on per...\n",
       "\n",
       "[8675 rows x 2 columns]"
      ]
     },
     "execution_count": 49,
     "metadata": {},
     "output_type": "execute_result"
    }
   ],
   "source": [
    "df_en = pd.read_csv('mbti_1.csv') #Import data\n",
    "df_en"
   ]
  },
  {
   "cell_type": "code",
   "execution_count": 50,
   "metadata": {},
   "outputs": [],
   "source": [
    "ps = PorterStemmer() #Mendefinisikan Stemmer\n",
    "wn = WordNetLemmatizer() #Mendefinisikan Lemmatizer\n",
    "\n",
    "stpwds_en = list(set(stopwords.words('english'))) #Mendefinisikan stopwords bahasa inggris\n",
    "\n",
    "'''\n",
    "Mendefinisikan fungsi untuk case folding\n",
    "'''\n",
    "def text_process(teks):\n",
    "  teks = teks.lower() # Membuat seluruh huruf menjadi huruf kecil\n",
    "  teks = re.sub(r\"\\|\\|\\|\",\" \",teks) #Menghapus karakter ||| pada teks\n",
    "  teks = re.sub(r\"http\\S+\", \" \", teks) #Menghilangkan link\n",
    "  teks = re.sub(r\"www.\\S+\", \" \", teks) #Menghilangkan link\n",
    "  teks = re.sub(r\"\\\\n\",\" \",teks) #Menghilangkan \\n\n",
    "  teks = teks.strip() #Menghilangkan tab\n",
    "  teks = re.sub('(\\\\b[A-Za-z] \\\\b|\\\\b [A-Za-z]\\\\b)', '', teks) #Menghapus huruf yang berdiri sendiri pada teks\n",
    "  types_16 = [['infp','infj','intp','intj','isfp','isfj','istj','enfp','enfj','entp','entj','esfp','esfj','estj']] #Mendefinisikan list 16 tipe kepribadian\n",
    "  teks = ' '.join([word for word in teks.split(' ') if word not in stpwds_en]) #Menghilangkan stopwords\n",
    "  teks = ' '.join([word for word in teks.split(' ') if word not in types_16]) #Mereduksi 16 tipe kepribadian mbti dari teks\n",
    "  teks = ps.stem(teks) #Melakukan stemming\n",
    "  teks = wn.lemmatize(teks) #Melakukan lematisasi\n",
    "  teks = re.sub(\"[^A-Za-z\\s']\",\" \", teks) #Menghapus seluruh karakter selain huruf\n",
    "  return teks"
   ]
  },
  {
   "cell_type": "code",
   "execution_count": 51,
   "metadata": {},
   "outputs": [
    {
     "data": {
      "text/html": [
       "<div>\n",
       "<style scoped>\n",
       "    .dataframe tbody tr th:only-of-type {\n",
       "        vertical-align: middle;\n",
       "    }\n",
       "\n",
       "    .dataframe tbody tr th {\n",
       "        vertical-align: top;\n",
       "    }\n",
       "\n",
       "    .dataframe thead th {\n",
       "        text-align: right;\n",
       "    }\n",
       "</style>\n",
       "<table border=\"1\" class=\"dataframe\">\n",
       "  <thead>\n",
       "    <tr style=\"text-align: right;\">\n",
       "      <th></th>\n",
       "      <th>type</th>\n",
       "      <th>posts</th>\n",
       "      <th>post_preproc</th>\n",
       "    </tr>\n",
       "  </thead>\n",
       "  <tbody>\n",
       "    <tr>\n",
       "      <th>0</th>\n",
       "      <td>INFJ</td>\n",
       "      <td>'http://www.youtube.com/watch?v=qsXHcwe3krw|||...</td>\n",
       "      <td>'    enfp intj moments     sportscenter top te...</td>\n",
       "    </tr>\n",
       "    <tr>\n",
       "      <th>1</th>\n",
       "      <td>ENTP</td>\n",
       "      <td>'I'm finding the lack of me in these posts ver...</td>\n",
       "      <td>'i'finding lack posts alarming  sex boring it'...</td>\n",
       "    </tr>\n",
       "    <tr>\n",
       "      <th>2</th>\n",
       "      <td>INTP</td>\n",
       "      <td>'Good one  _____   https://www.youtube.com/wat...</td>\n",
       "      <td>'good one            course  say know  that'my...</td>\n",
       "    </tr>\n",
       "    <tr>\n",
       "      <th>3</th>\n",
       "      <td>INTJ</td>\n",
       "      <td>'Dear INTP,   I enjoyed our conversation the o...</td>\n",
       "      <td>'dear intp    enjoyed conversation day   esote...</td>\n",
       "    </tr>\n",
       "    <tr>\n",
       "      <th>4</th>\n",
       "      <td>ENTJ</td>\n",
       "      <td>'You're fired.|||That's another silly misconce...</td>\n",
       "      <td>'you're fired  that'another silly misconceptio...</td>\n",
       "    </tr>\n",
       "  </tbody>\n",
       "</table>\n",
       "</div>"
      ],
      "text/plain": [
       "   type                                              posts  \\\n",
       "0  INFJ  'http://www.youtube.com/watch?v=qsXHcwe3krw|||...   \n",
       "1  ENTP  'I'm finding the lack of me in these posts ver...   \n",
       "2  INTP  'Good one  _____   https://www.youtube.com/wat...   \n",
       "3  INTJ  'Dear INTP,   I enjoyed our conversation the o...   \n",
       "4  ENTJ  'You're fired.|||That's another silly misconce...   \n",
       "\n",
       "                                        post_preproc  \n",
       "0  '    enfp intj moments     sportscenter top te...  \n",
       "1  'i'finding lack posts alarming  sex boring it'...  \n",
       "2  'good one            course  say know  that'my...  \n",
       "3  'dear intp    enjoyed conversation day   esote...  \n",
       "4  'you're fired  that'another silly misconceptio...  "
      ]
     },
     "execution_count": 51,
     "metadata": {},
     "output_type": "execute_result"
    }
   ],
   "source": [
    "df_en['post_preproc'] = df_en['posts'].apply(lambda x: text_process(x)) #Implementasi fungsi yang dibuat di atas ke teks\n",
    "df_en.head()"
   ]
  },
  {
   "cell_type": "code",
   "execution_count": 52,
   "metadata": {},
   "outputs": [
    {
     "data": {
      "text/html": [
       "<div>\n",
       "<style scoped>\n",
       "    .dataframe tbody tr th:only-of-type {\n",
       "        vertical-align: middle;\n",
       "    }\n",
       "\n",
       "    .dataframe tbody tr th {\n",
       "        vertical-align: top;\n",
       "    }\n",
       "\n",
       "    .dataframe thead th {\n",
       "        text-align: right;\n",
       "    }\n",
       "</style>\n",
       "<table border=\"1\" class=\"dataframe\">\n",
       "  <thead>\n",
       "    <tr style=\"text-align: right;\">\n",
       "      <th></th>\n",
       "      <th>type</th>\n",
       "      <th>posts</th>\n",
       "      <th>post_preproc</th>\n",
       "      <th>label_IE</th>\n",
       "      <th>label</th>\n",
       "    </tr>\n",
       "  </thead>\n",
       "  <tbody>\n",
       "    <tr>\n",
       "      <th>0</th>\n",
       "      <td>INFJ</td>\n",
       "      <td>'http://www.youtube.com/watch?v=qsXHcwe3krw|||...</td>\n",
       "      <td>'    enfp intj moments     sportscenter top te...</td>\n",
       "      <td>I</td>\n",
       "      <td>0</td>\n",
       "    </tr>\n",
       "    <tr>\n",
       "      <th>1</th>\n",
       "      <td>ENTP</td>\n",
       "      <td>'I'm finding the lack of me in these posts ver...</td>\n",
       "      <td>'i'finding lack posts alarming  sex boring it'...</td>\n",
       "      <td>E</td>\n",
       "      <td>1</td>\n",
       "    </tr>\n",
       "    <tr>\n",
       "      <th>2</th>\n",
       "      <td>INTP</td>\n",
       "      <td>'Good one  _____   https://www.youtube.com/wat...</td>\n",
       "      <td>'good one            course  say know  that'my...</td>\n",
       "      <td>I</td>\n",
       "      <td>0</td>\n",
       "    </tr>\n",
       "    <tr>\n",
       "      <th>3</th>\n",
       "      <td>INTJ</td>\n",
       "      <td>'Dear INTP,   I enjoyed our conversation the o...</td>\n",
       "      <td>'dear intp    enjoyed conversation day   esote...</td>\n",
       "      <td>I</td>\n",
       "      <td>0</td>\n",
       "    </tr>\n",
       "    <tr>\n",
       "      <th>4</th>\n",
       "      <td>ENTJ</td>\n",
       "      <td>'You're fired.|||That's another silly misconce...</td>\n",
       "      <td>'you're fired  that'another silly misconceptio...</td>\n",
       "      <td>E</td>\n",
       "      <td>1</td>\n",
       "    </tr>\n",
       "    <tr>\n",
       "      <th>...</th>\n",
       "      <td>...</td>\n",
       "      <td>...</td>\n",
       "      <td>...</td>\n",
       "      <td>...</td>\n",
       "      <td>...</td>\n",
       "    </tr>\n",
       "    <tr>\n",
       "      <th>8670</th>\n",
       "      <td>ISFP</td>\n",
       "      <td>'https://www.youtube.com/watch?v=t8edHB_h908||...</td>\n",
       "      <td>'  ixfp always think cats fi doms reason      ...</td>\n",
       "      <td>I</td>\n",
       "      <td>0</td>\n",
       "    </tr>\n",
       "    <tr>\n",
       "      <th>8671</th>\n",
       "      <td>ENFP</td>\n",
       "      <td>'So...if this thread already exists someplace ...</td>\n",
       "      <td>'so   if thread already exists someplace else ...</td>\n",
       "      <td>E</td>\n",
       "      <td>1</td>\n",
       "    </tr>\n",
       "    <tr>\n",
       "      <th>8672</th>\n",
       "      <td>INTP</td>\n",
       "      <td>'So many questions when i do these things.  I ...</td>\n",
       "      <td>'so many questions things   would take purple ...</td>\n",
       "      <td>I</td>\n",
       "      <td>0</td>\n",
       "    </tr>\n",
       "    <tr>\n",
       "      <th>8673</th>\n",
       "      <td>INFP</td>\n",
       "      <td>'I am very conflicted right now when it comes ...</td>\n",
       "      <td>'am conflicted right comes wanting children   ...</td>\n",
       "      <td>I</td>\n",
       "      <td>0</td>\n",
       "    </tr>\n",
       "    <tr>\n",
       "      <th>8674</th>\n",
       "      <td>INFP</td>\n",
       "      <td>'It has been too long since I have been on per...</td>\n",
       "      <td>'it long since personalitycafe   although does...</td>\n",
       "      <td>I</td>\n",
       "      <td>0</td>\n",
       "    </tr>\n",
       "  </tbody>\n",
       "</table>\n",
       "<p>8675 rows × 5 columns</p>\n",
       "</div>"
      ],
      "text/plain": [
       "      type                                              posts  \\\n",
       "0     INFJ  'http://www.youtube.com/watch?v=qsXHcwe3krw|||...   \n",
       "1     ENTP  'I'm finding the lack of me in these posts ver...   \n",
       "2     INTP  'Good one  _____   https://www.youtube.com/wat...   \n",
       "3     INTJ  'Dear INTP,   I enjoyed our conversation the o...   \n",
       "4     ENTJ  'You're fired.|||That's another silly misconce...   \n",
       "...    ...                                                ...   \n",
       "8670  ISFP  'https://www.youtube.com/watch?v=t8edHB_h908||...   \n",
       "8671  ENFP  'So...if this thread already exists someplace ...   \n",
       "8672  INTP  'So many questions when i do these things.  I ...   \n",
       "8673  INFP  'I am very conflicted right now when it comes ...   \n",
       "8674  INFP  'It has been too long since I have been on per...   \n",
       "\n",
       "                                           post_preproc label_IE  label  \n",
       "0     '    enfp intj moments     sportscenter top te...        I      0  \n",
       "1     'i'finding lack posts alarming  sex boring it'...        E      1  \n",
       "2     'good one            course  say know  that'my...        I      0  \n",
       "3     'dear intp    enjoyed conversation day   esote...        I      0  \n",
       "4     'you're fired  that'another silly misconceptio...        E      1  \n",
       "...                                                 ...      ...    ...  \n",
       "8670  '  ixfp always think cats fi doms reason      ...        I      0  \n",
       "8671  'so   if thread already exists someplace else ...        E      1  \n",
       "8672  'so many questions things   would take purple ...        I      0  \n",
       "8673  'am conflicted right comes wanting children   ...        I      0  \n",
       "8674  'it long since personalitycafe   although does...        I      0  \n",
       "\n",
       "[8675 rows x 5 columns]"
      ]
     },
     "execution_count": 52,
     "metadata": {},
     "output_type": "execute_result"
    }
   ],
   "source": [
    "df_en = df_en[df_en['post_preproc'].str.split(' ').str.len()>=5] #Menyeleksi teks yang jumlah katanya lebih dari 5\n",
    "df_en['label_IE'] = df_en['type'].apply(lambda x: 'I' if 'I' in x else 'E') #Ekstrak label untuk introvert dan ekstrovert\n",
    "df_en['label'] = df_en['label_IE'].replace({'I':0,'E':1}) #Melabelkan kategori introvert dan ekstrovert ke 0 dan 1\n",
    "df_en"
   ]
  },
  {
   "cell_type": "code",
   "execution_count": 53,
   "metadata": {},
   "outputs": [
    {
     "data": {
      "text/plain": [
       "<AxesSubplot:>"
      ]
     },
     "execution_count": 53,
     "metadata": {},
     "output_type": "execute_result"
    },
    {
     "data": {
      "image/png": "[encoded data removed]",
      "text/plain": [
       "<Figure size 432x288 with 1 Axes>"
      ]
     },
     "metadata": {
      "needs_background": "light"
     },
     "output_type": "display_data"
    }
   ],
   "source": [
    "df_en['label_IE'].value_counts().plot(kind='bar') #Plot jumlah data berlabel introvert dan ekstrovert"
   ]
  },
  {
   "cell_type": "code",
   "execution_count": 54,
   "metadata": {},
   "outputs": [
    {
     "data": {
      "text/plain": [
       "<AxesSubplot:>"
      ]
     },
     "execution_count": 54,
     "metadata": {},
     "output_type": "execute_result"
    },
    {
     "data": {
      "image/png": "[encoded data removed]",
      "text/plain": [
       "<Figure size 432x288 with 1 Axes>"
      ]
     },
     "metadata": {
      "needs_background": "light"
     },
     "output_type": "display_data"
    }
   ],
   "source": [
    "'''\n",
    "Melakukan undersampling untuk kelas 'I'\n",
    "'''\n",
    "\n",
    "#Memisahkan data ekstrovert dan introvert (jumlah data introvert sebanyak jumlah ekstro)\n",
    "extro = df_en[df_en['label_IE']=='E'] \n",
    "intro = df_en[df_en['label_IE']=='I'].sample(len(extro))\n",
    "\n",
    "#Menggabungkan kedua data menjadi satu dan di-shuffle\n",
    "new_df_eng = pd.concat([extro,intro]).sample(2*len(extro)).reset_index(drop=True)\n",
    "new_df_eng['label_IE'].value_counts().plot(kind='bar')"
   ]
  },
  {
   "cell_type": "code",
   "execution_count": 55,
   "metadata": {},
   "outputs": [],
   "source": [
    "from collections import Counter\n",
    "\n",
    "#Menghitung frekuensi kemunculan tiap kata pada data dan dimasukkan ke variabel tmp\n",
    "tmp = Counter(' '.join(new_df_eng['post_preproc']).split(' '))"
   ]
  },
  {
   "cell_type": "code",
   "execution_count": 56,
   "metadata": {},
   "outputs": [],
   "source": [
    "#Membuat dataframe yang menyimpan informasi kata dan frekuensi kemunculannya\n",
    "vocabs = pd.DataFrame({'word':tmp.keys(),'counts':tmp.values()})"
   ]
  },
  {
   "cell_type": "code",
   "execution_count": 59,
   "metadata": {},
   "outputs": [],
   "source": [
    "#Menghitung jumlah kata maksimal dalam satu kalimat\n",
    "max_len = new_df_eng['post_preproc'].str.split(' ').str.len().max()"
   ]
  },
  {
   "cell_type": "code",
   "execution_count": 62,
   "metadata": {},
   "outputs": [],
   "source": [
    "#Memisahkan data train dan test dengan komposisi 80:20\n",
    "train_dat,test_dat = train_test_split(new_df_eng,train_size=0.8)\n",
    "\n",
    "'''\n",
    "Menggunakan tf data input pipeline guna mengefisiensi training model deeplearning.\n",
    "Shuffle(1024) -> ambil data random sebanyak 1024 data\n",
    "cache() -> digunakan supaya pipeline dapat menggunakan data yang sudah dishuffle agar lebih efisien\n",
    "batch(256) -> set maksimum 256 data dalam satu kloter\n",
    "'''\n",
    "train_dataset = tf.data.Dataset.from_tensor_slices((train_dat['post_preproc'], train_dat['label'])).shuffle(1024).cache().batch(64)\n",
    "test_dataset = tf.data.Dataset.from_tensor_slices((test_dat['post_preproc'], test_dat['label'])).shuffle(1024).cache().batch(64)"
   ]
  },
  {
   "cell_type": "code",
   "execution_count": 63,
   "metadata": {},
   "outputs": [],
   "source": [
    "'''\n",
    "Mendefinisikan weight layer embedding untuk tiap kata menggunakan pre-trained weight dari Glove.\n",
    "'''\n",
    "\n",
    "path_to_glove_file = \"glove.6B/glove.6B.50d.txt\"\n",
    "\n",
    "embeddings_index = {}\n",
    "with open(path_to_glove_file) as f:\n",
    "    for line in f:\n",
    "        word, coefs = line.split(maxsplit=1)\n",
    "        coefs = np.fromstring(coefs, \"f\", sep=\" \")\n",
    "        embeddings_index[word] = coefs\n",
    "\n",
    "num_tokens = len(vocabs) + 2\n",
    "embedding_dim = 50\n",
    "hits = 0\n",
    "misses = 0\n",
    "\n",
    "# Prepare embedding matrix\n",
    "embedding_matrix = np.zeros((num_tokens, embedding_dim))\n",
    "for i, word in enumerate(vocabs.word):\n",
    "    embedding_vector = embeddings_index.get(word)\n",
    "    if embedding_vector is not None:\n",
    "        # Words not found in embedding index will be all-zeros.\n",
    "        # This includes the representation for \"padding\" and \"OOV\"\n",
    "        embedding_matrix[i] = embedding_vector\n",
    "        hits += 1\n",
    "    else:\n",
    "        misses += 1"
   ]
  },
  {
   "cell_type": "code",
   "execution_count": 67,
   "metadata": {},
   "outputs": [
    {
     "name": "stderr",
     "output_type": "stream",
     "text": [
      "2022-07-10 17:14:46.658537: I tensorflow/core/grappler/optimizers/custom_graph_optimizer_registry.cc:113] Plugin optimizer for device_type GPU is enabled.\n"
     ]
    },
    {
     "name": "stdout",
     "output_type": "stream",
     "text": [
      "Model: \"sequential_8\"\n",
      "_________________________________________________________________\n",
      " Layer (type)                Output Shape              Param #   \n",
      "=================================================================\n",
      " text_vectorization_8 (TextV  (None, 1892)             0         \n",
      " ectorization)                                                   \n",
      "                                                                 \n",
      " embedding_8 (Embedding)     (None, 1892, 50)          5088150   \n",
      "                                                                 \n",
      " dropout_32 (Dropout)        (None, 1892, 50)          0         \n",
      "                                                                 \n",
      " conv1d_16 (Conv1D)          (None, 1891, 32)          3232      \n",
      "                                                                 \n",
      " max_pooling1d_16 (MaxPoolin  (None, 945, 32)          0         \n",
      " g1D)                                                            \n",
      "                                                                 \n",
      " dropout_33 (Dropout)        (None, 945, 32)           0         \n",
      "                                                                 \n",
      " conv1d_17 (Conv1D)          (None, 944, 16)           1040      \n",
      "                                                                 \n",
      " max_pooling1d_17 (MaxPoolin  (None, 472, 16)          0         \n",
      " g1D)                                                            \n",
      "                                                                 \n",
      " flatten_8 (Flatten)         (None, 7552)              0         \n",
      "                                                                 \n",
      " dropout_34 (Dropout)        (None, 7552)              0         \n",
      "                                                                 \n",
      " dense_16 (Dense)            (None, 8)                 60424     \n",
      "                                                                 \n",
      " dropout_35 (Dropout)        (None, 8)                 0         \n",
      "                                                                 \n",
      " dense_17 (Dense)            (None, 1)                 9         \n",
      "                                                                 \n",
      "=================================================================\n",
      "Total params: 5,152,855\n",
      "Trainable params: 64,705\n",
      "Non-trainable params: 5,088,150\n",
      "_________________________________________________________________\n"
     ]
    }
   ],
   "source": [
    "'''\n",
    "Mendefinisikan layer vektorisasi teks yaitu proses mentransformasikan kata menjadi angka.\n",
    "max_tokens=jml_vocab -> set jumlah maksimum token/kata\n",
    "split=\"whitespace\" -> pemisahan token/kata berdasarkan spasi\n",
    "ngrams=None -> set pemisahan kata hanya berdasarkan tiap satu kata. \n",
    "    Misal \"Saya ingin makan ikan\":\n",
    "    - ngrams=None -> \"Saya\",\"ingin\",\"makan\",\"ikan\"\n",
    "    - ngrams=2 -> \"Saya ingin\",\"makan ikan\"\n",
    "output_mode='int' -> set supaya output tokenisasi berupa bilangan bulat\n",
    "output_sequence_length=max_sen_len -> set maksimal elemen satu kalimat sebanyak 50\n",
    "input_shape=(1,) -> set ukuran data input berupa array 1D (vektor)\n",
    "'''\n",
    "text_vectorization = tf.keras.layers.TextVectorization(max_tokens=len(vocabs),\n",
    "                                       split=\"whitespace\",\n",
    "                                       ngrams=None,\n",
    "                                       output_mode=\"int\",\n",
    "                                       output_sequence_length=int(max_len),\n",
    "                                       input_shape=(1,) # jika ingin menggunakan sequential API\n",
    "                                       )\n",
    "\n",
    "text_vectorization.adapt(train_dat['post_preproc']) #Training layer text vectorization berdasarkan data training\n",
    "\n",
    "#Membuat arsitektur model\n",
    "model = tf.keras.models.Sequential([text_vectorization,\n",
    "                                    tf.keras.layers.Embedding(input_dim=num_tokens,\n",
    "                                                            output_dim=embedding_dim,\n",
    "                                                            input_length=int(max_len),\n",
    "                                                            embeddings_initializer=tf.keras.initializers.Constant(embedding_matrix),\n",
    "                                                            trainable=False),\n",
    "                                    tf.keras.layers.Dropout(0.3),\n",
    "                                    tf.keras.layers.Conv1D(32,2,activation = 'relu'),\n",
    "                                    tf.keras.layers.MaxPooling1D(),\n",
    "                                    tf.keras.layers.Dropout(0.3),\n",
    "                                    tf.keras.layers.Conv1D(16,2,activation = 'relu'),\n",
    "                                    tf.keras.layers.MaxPooling1D(),\n",
    "                                    tf.keras.layers.Flatten(),\n",
    "                                    tf.keras.layers.Dropout(0.3),\n",
    "                                    tf.keras.layers.Dense(8,activation='relu'),\n",
    "                                    tf.keras.layers.Dropout(0.2),\n",
    "                                    tf.keras.layers.Dense(1,activation='sigmoid')\n",
    "])\n",
    "#'''\n",
    "\n",
    "model.summary()"
   ]
  },
  {
   "cell_type": "code",
   "execution_count": 68,
   "metadata": {},
   "outputs": [
    {
     "name": "stdout",
     "output_type": "stream",
     "text": [
      "Epoch 1/40\n"
     ]
    },
    {
     "name": "stderr",
     "output_type": "stream",
     "text": [
      "2022-07-10 17:14:53.930652: I tensorflow/core/grappler/optimizers/custom_graph_optimizer_registry.cc:113] Plugin optimizer for device_type GPU is enabled.\n"
     ]
    },
    {
     "name": "stdout",
     "output_type": "stream",
     "text": [
      "50/50 [==============================] - ETA: 0s - loss: 0.6965 - accuracy: 0.5081"
     ]
    },
    {
     "name": "stderr",
     "output_type": "stream",
     "text": [
      "2022-07-10 17:14:58.064900: I tensorflow/core/grappler/optimizers/custom_graph_optimizer_registry.cc:113] Plugin optimizer for device_type GPU is enabled.\n"
     ]
    },
    {
     "name": "stdout",
     "output_type": "stream",
     "text": [
      "50/50 [==============================] - 5s 59ms/step - loss: 0.6965 - accuracy: 0.5081 - val_loss: 0.6934 - val_accuracy: 0.4625\n",
      "Epoch 2/40\n",
      "50/50 [==============================] - 3s 55ms/step - loss: 0.6931 - accuracy: 0.5094 - val_loss: 0.6936 - val_accuracy: 0.4625\n",
      "Epoch 3/40\n",
      "50/50 [==============================] - 2s 40ms/step - loss: 0.6933 - accuracy: 0.5094 - val_loss: 0.6937 - val_accuracy: 0.4625\n",
      "Epoch 4/40\n",
      "50/50 [==============================] - 2s 38ms/step - loss: 0.6901 - accuracy: 0.5094 - val_loss: 0.6936 - val_accuracy: 0.4625\n",
      "Epoch 5/40\n",
      "50/50 [==============================] - 2s 38ms/step - loss: 0.6932 - accuracy: 0.5094 - val_loss: 0.6937 - val_accuracy: 0.4625\n",
      "Epoch 6/40\n",
      "50/50 [==============================] - 2s 38ms/step - loss: 0.6919 - accuracy: 0.5094 - val_loss: 0.6939 - val_accuracy: 0.4625\n",
      "Epoch 7/40\n",
      "50/50 [==============================] - 2s 38ms/step - loss: 0.6898 - accuracy: 0.5094 - val_loss: 0.6943 - val_accuracy: 0.4625\n",
      "Epoch 8/40\n",
      "50/50 [==============================] - 2s 41ms/step - loss: 0.6881 - accuracy: 0.5094 - val_loss: 0.6938 - val_accuracy: 0.4625\n",
      "Epoch 9/40\n",
      "50/50 [==============================] - 3s 50ms/step - loss: 0.6841 - accuracy: 0.5094 - val_loss: 0.6936 - val_accuracy: 0.4625\n",
      "Epoch 10/40\n",
      "50/50 [==============================] - 2s 47ms/step - loss: 0.6878 - accuracy: 0.5094 - val_loss: 0.6945 - val_accuracy: 0.4625\n",
      "Epoch 11/40\n",
      "50/50 [==============================] - 2s 45ms/step - loss: 0.6833 - accuracy: 0.5094 - val_loss: 0.6940 - val_accuracy: 0.4625\n",
      "Epoch 12/40\n",
      "50/50 [==============================] - 2s 39ms/step - loss: 0.6745 - accuracy: 0.5094 - val_loss: 0.6942 - val_accuracy: 0.4625\n",
      "Epoch 13/40\n",
      "50/50 [==============================] - 2s 46ms/step - loss: 0.6701 - accuracy: 0.5441 - val_loss: 0.6966 - val_accuracy: 0.5112\n",
      "Epoch 14/40\n",
      "50/50 [==============================] - 2s 39ms/step - loss: 0.6604 - accuracy: 0.5519 - val_loss: 0.7104 - val_accuracy: 0.4712\n",
      "Epoch 15/40\n",
      "50/50 [==============================] - 2s 38ms/step - loss: 0.6391 - accuracy: 0.5844 - val_loss: 0.7258 - val_accuracy: 0.4725\n",
      "Epoch 16/40\n",
      "50/50 [==============================] - 2s 39ms/step - loss: 0.6340 - accuracy: 0.6026 - val_loss: 0.6957 - val_accuracy: 0.5238\n",
      "Epoch 17/40\n",
      "50/50 [==============================] - 2s 39ms/step - loss: 0.6486 - accuracy: 0.6004 - val_loss: 0.7154 - val_accuracy: 0.4787\n",
      "Epoch 18/40\n",
      "50/50 [==============================] - 2s 38ms/step - loss: 0.6037 - accuracy: 0.6391 - val_loss: 0.6977 - val_accuracy: 0.5238\n",
      "Epoch 19/40\n",
      "50/50 [==============================] - 2s 40ms/step - loss: 0.6209 - accuracy: 0.6341 - val_loss: 0.6912 - val_accuracy: 0.5400\n",
      "Epoch 20/40\n",
      "50/50 [==============================] - 2s 38ms/step - loss: 0.5782 - accuracy: 0.6795 - val_loss: 0.7008 - val_accuracy: 0.5087\n",
      "Epoch 21/40\n",
      "50/50 [==============================] - 2s 38ms/step - loss: 0.5202 - accuracy: 0.7486 - val_loss: 0.6996 - val_accuracy: 0.5100\n",
      "Epoch 22/40\n",
      "50/50 [==============================] - 2s 38ms/step - loss: 0.4409 - accuracy: 0.7967 - val_loss: 0.7027 - val_accuracy: 0.5312\n",
      "Epoch 23/40\n",
      "50/50 [==============================] - 2s 43ms/step - loss: 0.3311 - accuracy: 0.8471 - val_loss: 0.7170 - val_accuracy: 0.5188\n",
      "Epoch 24/40\n",
      "50/50 [==============================] - 2s 38ms/step - loss: 0.2399 - accuracy: 0.8881 - val_loss: 0.7327 - val_accuracy: 0.5275\n",
      "Epoch 25/40\n",
      "50/50 [==============================] - 2s 40ms/step - loss: 0.1940 - accuracy: 0.9078 - val_loss: 0.7698 - val_accuracy: 0.5312\n",
      "Epoch 26/40\n",
      "50/50 [==============================] - 2s 37ms/step - loss: 0.1830 - accuracy: 0.9143 - val_loss: 0.7908 - val_accuracy: 0.5275\n",
      "Epoch 27/40\n",
      "50/50 [==============================] - 2s 37ms/step - loss: 0.1761 - accuracy: 0.9240 - val_loss: 0.8649 - val_accuracy: 0.4825\n",
      "Epoch 28/40\n",
      "50/50 [==============================] - 2s 37ms/step - loss: 0.1829 - accuracy: 0.9168 - val_loss: 0.8016 - val_accuracy: 0.4988\n",
      "Epoch 29/40\n",
      "50/50 [==============================] - 2s 36ms/step - loss: 0.1026 - accuracy: 0.9590 - val_loss: 0.8557 - val_accuracy: 0.5037\n",
      "Epoch 30/40\n",
      "50/50 [==============================] - 2s 36ms/step - loss: 0.0611 - accuracy: 0.9794 - val_loss: 0.9200 - val_accuracy: 0.4900\n",
      "Epoch 31/40\n",
      "50/50 [==============================] - 2s 37ms/step - loss: 0.0336 - accuracy: 0.9875 - val_loss: 0.9232 - val_accuracy: 0.4862\n",
      "Epoch 32/40\n",
      "50/50 [==============================] - 2s 38ms/step - loss: 0.0149 - accuracy: 0.9947 - val_loss: 0.9552 - val_accuracy: 0.5112\n",
      "Epoch 33/40\n",
      "50/50 [==============================] - 2s 37ms/step - loss: 0.0095 - accuracy: 0.9956 - val_loss: 0.9879 - val_accuracy: 0.5087\n",
      "Epoch 34/40\n",
      "50/50 [==============================] - 2s 37ms/step - loss: 0.0069 - accuracy: 0.9966 - val_loss: 1.0136 - val_accuracy: 0.5050\n",
      "Epoch 35/40\n",
      "50/50 [==============================] - 2s 37ms/step - loss: 0.0059 - accuracy: 0.9966 - val_loss: 1.0274 - val_accuracy: 0.5087\n",
      "Epoch 36/40\n",
      "50/50 [==============================] - 2s 37ms/step - loss: 0.0054 - accuracy: 0.9966 - val_loss: 1.0467 - val_accuracy: 0.5087\n",
      "Epoch 37/40\n",
      "50/50 [==============================] - 2s 37ms/step - loss: 0.0050 - accuracy: 0.9966 - val_loss: 1.0578 - val_accuracy: 0.5075\n",
      "Epoch 38/40\n",
      "50/50 [==============================] - 2s 37ms/step - loss: 0.0047 - accuracy: 0.9966 - val_loss: 1.0765 - val_accuracy: 0.5087\n",
      "Epoch 39/40\n",
      "50/50 [==============================] - 2s 42ms/step - loss: 0.0045 - accuracy: 0.9966 - val_loss: 1.0899 - val_accuracy: 0.5100\n",
      "Epoch 40/40\n",
      "50/50 [==============================] - 2s 38ms/step - loss: 0.0043 - accuracy: 0.9966 - val_loss: 1.1022 - val_accuracy: 0.5112\n"
     ]
    }
   ],
   "source": [
    "epoch = 40 #Set jumlah epoch training\n",
    "\n",
    "#Compile model, loss function, optimizer, dan metrik evaluasi\n",
    "model.compile(loss='binary_crossentropy', optimizer=tf.keras.optimizers.Adam(), metrics=['accuracy'])\n",
    "history_1 = model.fit(train_dataset, epochs=epoch, validation_data=test_dataset)"
   ]
  },
  {
   "cell_type": "code",
   "execution_count": 69,
   "metadata": {},
   "outputs": [
    {
     "data": {
      "image/png": "[encoded data removed]",
      "text/plain": [
       "<Figure size 1152x360 with 2 Axes>"
      ]
     },
     "metadata": {
      "needs_background": "light"
     },
     "output_type": "display_data"
    }
   ],
   "source": [
    "fig, ax = plt.subplots(ncols=2,figsize=(16,5))\n",
    "ax[0].plot(range(1,epoch+1),history_1.history['loss'],label='loss')\n",
    "ax[0].plot(range(1,epoch+1),history_1.history['val_loss'],label='val_loss')\n",
    "ax[0].set_title('Loss')\n",
    "ax[0].legend()\n",
    "#ax[0].set_ylim(0,1)\n",
    "\n",
    "ax[1].plot(range(1,epoch+1),history_1.history['accuracy'],label='accuracy')\n",
    "ax[1].plot(range(1,epoch+1),history_1.history['val_accuracy'],label='val_accuracy')\n",
    "ax[1].set_title('Accuracy')\n",
    "ax[1].legend()\n",
    "ax[1].set_ylim(0,1)\n",
    "\n",
    "plt.show()"
   ]
  },
  {
   "cell_type": "markdown",
   "metadata": {},
   "source": [
    "Model sangat overfit terutapa di setelah epoch 20"
   ]
  },
  {
   "cell_type": "code",
   "execution_count": null,
   "metadata": {},
   "outputs": [
    {
     "name": "stderr",
     "output_type": "stream",
     "text": [
      "WARNING:absl:Found untraced functions such as _jit_compiled_convolution_op, _jit_compiled_convolution_op while saving (showing 2 of 2). These functions will not be directly callable after loading.\n"
     ]
    },
    {
     "name": "stdout",
     "output_type": "stream",
     "text": [
      "INFO:tensorflow:Assets written to: model_english_1/assets\n"
     ]
    },
    {
     "name": "stderr",
     "output_type": "stream",
     "text": [
      "INFO:tensorflow:Assets written to: model_english_1/assets\n"
     ]
    }
   ],
   "source": [
    "model.save('model_english_1',save_format='tf')"
   ]
  }
 ],
 "metadata": {
  "kernelspec": {
   "display_name": "Python 3.9.13 ('base')",
   "language": "python",
   "name": "python3"
  },
  "language_info": {
   "codemirror_mode": {
    "name": "ipython",
    "version": 3
   },
   "file_extension": ".py",
   "mimetype": "text/x-python",
   "name": "python",
   "nbconvert_exporter": "python",
   "pygments_lexer": "ipython3",
   "version": "3.9.13"
  },
  "orig_nbformat": 4,
  "vscode": {
   "interpreter": {
    "hash": "c6e4e9f98eb68ad3b7c296f83d20e6de614cb42e90992a65aa266555a3137d0d"
   }
  }
 },
 "nbformat": 4,
 "nbformat_minor": 2
}
